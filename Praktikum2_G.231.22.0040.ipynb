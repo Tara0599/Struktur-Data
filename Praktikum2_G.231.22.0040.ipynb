{
  "nbformat": 4,
  "nbformat_minor": 0,
  "metadata": {
    "colab": {
      "provenance": [],
      "authorship_tag": "ABX9TyMOq6J/7eSSc5nCy2WqWViT",
      "include_colab_link": true
    },
    "kernelspec": {
      "name": "python3",
      "display_name": "Python 3"
    },
    "language_info": {
      "name": "python"
    }
  },
  "cells": [
    {
      "cell_type": "markdown",
      "metadata": {
        "id": "view-in-github",
        "colab_type": "text"
      },
      "source": [
        "<a href=\"https://colab.research.google.com/github/Tara0599/Struktur-Data/blob/main/Praktikum2_G.231.22.0040.ipynb\" target=\"_parent\"><img src=\"https://colab.research.google.com/assets/colab-badge.svg\" alt=\"Open In Colab\"/></a>"
      ]
    },
    {
      "cell_type": "code",
      "source": [
        "def selectionSort(number_list):\n",
        "    for i in range(len(number_list)):\n",
        "        min_index = i\n",
        "        for j in range(i + 1, len(number_list)):\n",
        "            if number_list[j] < number_list[min_index]:\n",
        "                min_index = j\n",
        "        number_list[i], number_list[min_index] = number_list[min_index], number_list[i]\n",
        "    return number_list\n",
        "\n",
        "numbers = [47, 56, 33, 69, 42, 58, 37, 60]\n",
        "sorted_numbers = selectionSort(numbers.copy())\n",
        "print(\"Sorted Angka cantik:\", sorted_numbers)\n",
        "print(\"Original Angka cantik:\", numbers)"
      ],
      "metadata": {
        "colab": {
          "base_uri": "https://localhost:8080/"
        },
        "id": "aEL9oyZJcHkL",
        "outputId": "e2f1cc00-6dbc-4a34-9008-e1161e85d211"
      },
      "execution_count": 6,
      "outputs": [
        {
          "output_type": "stream",
          "name": "stdout",
          "text": [
            "Sorted Angka cantik: [33, 37, 42, 47, 56, 58, 60, 69]\n",
            "Original Angka cantik: [47, 56, 33, 69, 42, 58, 37, 60]\n"
          ]
        }
      ]
    }
  ]
}