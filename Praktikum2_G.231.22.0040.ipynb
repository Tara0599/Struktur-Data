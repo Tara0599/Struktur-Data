{
  "nbformat": 4,
  "nbformat_minor": 0,
  "metadata": {
    "colab": {
      "provenance": [],
      "authorship_tag": "ABX9TyOkknbAKkk8Lm64NJlGl+WD",
      "include_colab_link": true
    },
    "kernelspec": {
      "name": "python3",
      "display_name": "Python 3"
    },
    "language_info": {
      "name": "python"
    }
  },
  "cells": [
    {
      "cell_type": "markdown",
      "metadata": {
        "id": "view-in-github",
        "colab_type": "text"
      },
      "source": [
        "<a href=\"https://colab.research.google.com/github/Tara0599/Struktur-Data/blob/main/Praktikum2_G.231.22.0040.ipynb\" target=\"_parent\"><img src=\"https://colab.research.google.com/assets/colab-badge.svg\" alt=\"Open In Colab\"/></a>"
      ]
    },
    {
      "cell_type": "code",
      "source": [
        "def selectionSort(number_list):\n",
        "    for i in range(len(number_list)):\n",
        "        min_index = i\n",
        "        for j in range(i + 1, len(number_list)):\n",
        "            if number_list[j] < number_list[min_index]:\n",
        "                min_index = j\n",
        "        number_list[i], number_list[min_index] = number_list[min_index], number_list[i]\n",
        "    return number_list\n",
        "\n",
        "numbers = [47, 56, 33, 69, 42, 58, 37, 60]\n",
        "sorted_numbers = selectionSort(numbers.copy())\n",
        "print(\"Sorted Angka cantik:\", sorted_numbers)\n",
        "print(\"Original Angka cantik:\", numbers)"
      ],
      "metadata": {
        "colab": {
          "base_uri": "https://localhost:8080/"
        },
        "id": "aEL9oyZJcHkL",
        "outputId": "e2f1cc00-6dbc-4a34-9008-e1161e85d211"
      },
      "execution_count": null,
      "outputs": [
        {
          "output_type": "stream",
          "name": "stdout",
          "text": [
            "Sorted Angka cantik: [33, 37, 42, 47, 56, 58, 60, 69]\n",
            "Original Angka cantik: [47, 56, 33, 69, 42, 58, 37, 60]\n"
          ]
        }
      ]
    },
    {
      "cell_type": "code",
      "source": [
        "my_tuple = (1, 2, 3, \"apel\", \"pisang\")\n",
        "print(\"Elemen Pertama:\", my_tuple[0])\n",
        "print(\"Elemen Ketiga:\", my_tuple[2])\n",
        "if \"apel\" in my_tuple:\n",
        "    print(\"apel ada di tuple saya\")\n",
        "another_tuple = (4, 5, \"cherry\")\n",
        "combined_tuple = my_tuple + another_tuple\n",
        "print(\"Combined Tuple:\", combined_tuple)\n",
        "repeated_tuple = my_tuple * 3\n",
        "print(\"Repeated Tuple:\", repeated_tuple)\n"
      ],
      "metadata": {
        "colab": {
          "base_uri": "https://localhost:8080/"
        },
        "id": "ldmTHTXeC0VJ",
        "outputId": "f5c37603-7c00-4907-9395-088a503bbe56"
      },
      "execution_count": 35,
      "outputs": [
        {
          "output_type": "stream",
          "name": "stdout",
          "text": [
            "Elemen Pertama: 1\n",
            "Elemen Ketiga: 3\n",
            "apel ada di tuple saya\n",
            "Combined Tuple: (1, 2, 3, 'apel', 'pisang', 4, 5, 'cherry')\n",
            "Repeated Tuple: (1, 2, 3, 'apel', 'pisang', 1, 2, 3, 'apel', 'pisang', 1, 2, 3, 'apel', 'pisang')\n"
          ]
        }
      ]
    },
    {
      "cell_type": "code",
      "source": [
        "my_dict = {\"Nama\": \"Nisya\", \"Umur\": 24, \"Kota\": \"Semarang\"}\n",
        "Nama = my_dict[\"Nama\"]\n",
        "Umur = my_dict.get(\"Umur\")\n",
        "my_dict[\"Umur\"] = 24\n",
        "my_dict[\"Negara\"] = \"Indonesia\"\n",
        "for key, value in my_dict.items():\n",
        "  print(f\"{key}: {value}\")"
      ],
      "metadata": {
        "colab": {
          "base_uri": "https://localhost:8080/"
        },
        "id": "Pg_ZWhzGDNDl",
        "outputId": "b8da000c-add3-41ec-bd48-b4d62720223b"
      },
      "execution_count": 33,
      "outputs": [
        {
          "output_type": "stream",
          "name": "stdout",
          "text": [
            "Nama: Nisya\n",
            "Umur: 24\n",
            "Kota: Semarang\n",
            "Negara: Indonesia\n"
          ]
        }
      ]
    }
  ]
}