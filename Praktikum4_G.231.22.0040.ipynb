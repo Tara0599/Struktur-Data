{
  "nbformat": 4,
  "nbformat_minor": 0,
  "metadata": {
    "colab": {
      "provenance": [],
      "authorship_tag": "ABX9TyP2FebqrWpZ8HtIEp+JKRGf",
      "include_colab_link": true
    },
    "kernelspec": {
      "name": "python3",
      "display_name": "Python 3"
    },
    "language_info": {
      "name": "python"
    }
  },
  "cells": [
    {
      "cell_type": "markdown",
      "metadata": {
        "id": "view-in-github",
        "colab_type": "text"
      },
      "source": [
        "<a href=\"https://colab.research.google.com/github/Tara0599/Struktur-Data/blob/main/Praktikum4_G.231.22.0040.ipynb\" target=\"_parent\"><img src=\"https://colab.research.google.com/assets/colab-badge.svg\" alt=\"Open In Colab\"/></a>"
      ]
    },
    {
      "cell_type": "code",
      "source": [
        "def is_pangram(s):\n",
        "    # Inisialisasi set alfabet\n",
        "    alphabet_set = set(\"abcdefghijklmnopqrstuvwxyz\")\n",
        "\n",
        "    # Konversi string ke huruf kecil untuk perbandingan yang konsisten\n",
        "    s = s.lower()\n",
        "\n",
        "    # Iterasi melalui setiap karakter dalam string\n",
        "    for char in s:\n",
        "        if char.isalpha():\n",
        "            alphabet_set.discard(char)  # Hapus huruf dari set\n",
        "\n",
        "        # Jika set alfabet kosong, ini adalah pangram\n",
        "        if not alphabet_set:\n",
        "            return True\n",
        "\n",
        "    # Jika set alfabet masih berisi karakter, ini bukan pangram\n",
        "    return False\n",
        "\n",
        "# Contoh penggunaan\n",
        "kalimat = \"Wafda Rizqiyah kaji xilem bacang satu provinsi\"\n",
        "\n",
        "if is_pangram(kalimat):\n",
        "    print('\"' + kalimat + '\"')\n",
        "    print(\"adalah pangram\")\n",
        "else:\n",
        "    print('\"' + kalimat + '\"')\n",
        "    print(\"bukan pangram\")\n",
        "\n",
        "\n"
      ],
      "metadata": {
        "colab": {
          "base_uri": "https://localhost:8080/"
        },
        "id": "W6t8fsBUXKR9",
        "outputId": "57dcdad4-79b6-4516-a1ae-326346fee02f"
      },
      "execution_count": 16,
      "outputs": [
        {
          "output_type": "stream",
          "name": "stdout",
          "text": [
            "\"Wafda Rizqiyah kaji xilem bacang satu provinsi\"\n",
            "adalah pangram\n"
          ]
        }
      ]
    },
    {
      "cell_type": "code",
      "execution_count": 6,
      "metadata": {
        "colab": {
          "base_uri": "https://localhost:8080/"
        },
        "id": "vqJ-BC_AWPgQ",
        "outputId": "a32eba00-e8bf-4ca9-c658-f245f51ecd48"
      },
      "outputs": [
        {
          "output_type": "stream",
          "name": "stdout",
          "text": [
            "\"The quick brown fox jumps over the little lazy dog\"\n",
            "is a pangram\n"
          ]
        }
      ],
      "source": [
        "def checkPangram(s):\n",
        "    List = [False] * 26  # Create a list of 26 characters and set each entry to False\n",
        "\n",
        "    # Convert the sentence to lowercase and iterate over the sentence\n",
        "    for c in s.lower():\n",
        "        if c.isalpha():  # Check if the character is an alphabet letter\n",
        "            # Make the corresponding entry True\n",
        "            List[ord(c) - ord('a')] = True\n",
        "\n",
        "    # Check if any character is missing, then return False\n",
        "    for ch in List:\n",
        "        if not ch:\n",
        "            return False\n",
        "    return True\n",
        "\n",
        "# Driver Program to test the function\n",
        "sentence = \"The quick brown fox jumps over the little lazy dog\"\n",
        "\n",
        "if checkPangram(sentence):\n",
        "    print('\"' + sentence + '\"')\n",
        "    print(\"is a pangram\")\n",
        "else:\n",
        "    print('\"' + sentence + '\"')\n",
        "    print(\"is not a pangram\")\n",
        "\n"
      ]
    }
  ]
}