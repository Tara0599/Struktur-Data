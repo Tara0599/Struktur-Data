{
  "nbformat": 4,
  "nbformat_minor": 0,
  "metadata": {
    "colab": {
      "provenance": [],
      "authorship_tag": "ABX9TyOpy27skArXAQ9QM5DZsVFT",
      "include_colab_link": true
    },
    "kernelspec": {
      "name": "python3",
      "display_name": "Python 3"
    },
    "language_info": {
      "name": "python"
    }
  },
  "cells": [
    {
      "cell_type": "markdown",
      "metadata": {
        "id": "view-in-github",
        "colab_type": "text"
      },
      "source": [
        "<a href=\"https://colab.research.google.com/github/Tara0599/Struktur-Data/blob/main/StackQueue_G.231.22.0040.ipynb\" target=\"_parent\"><img src=\"https://colab.research.google.com/assets/colab-badge.svg\" alt=\"Open In Colab\"/></a>"
      ]
    },
    {
      "cell_type": "code",
      "execution_count": 2,
      "metadata": {
        "colab": {
          "base_uri": "https://localhost:8080/"
        },
        "id": "b6jnABbPwG71",
        "outputId": "0e4f21c6-119d-4f78-e9ac-758962b89fda"
      },
      "outputs": [
        {
          "output_type": "stream",
          "name": "stdout",
          "text": [
            "deque(['Ram', 'Tarun', 'Asif', 'John'])\n",
            "deque(['Ram', 'Tarun', 'Asif', 'John', 'Akbar'])\n",
            "deque(['Ram', 'Tarun', 'Asif', 'John', 'Akbar', 'Birbal'])\n",
            "Ram\n",
            "Tarun\n",
            "deque(['Asif', 'John', 'Akbar', 'Birbal'])\n"
          ]
        }
      ],
      "source": [
        "from collections import deque\n",
        "queue = deque ([\"Ram\", \"Tarun\", \"Asif\", \"John\"])\n",
        "print(queue)\n",
        "queue.append(\"Akbar\")\n",
        "print(queue)\n",
        "queue.append(\"Birbal\")\n",
        "print(queue)\n",
        "print(queue.popleft())\n",
        "print(queue.popleft())\n",
        "print(queue)"
      ]
    },
    {
      "cell_type": "code",
      "source": [
        "def sortStack(input):\n",
        "    tmpStack = []\n",
        "    while len(input) > 0:\n",
        "        tmp = input[-1]\n",
        "        input.pop()\n",
        "        while len(tmpStack) > 0 and tmpStack[-1] < tmp:\n",
        "            input.append(tmpStack[-1])\n",
        "            tmpStack.pop()\n",
        "        tmpStack.append(tmp)\n",
        "    return tmpStack\n",
        "\n",
        "def sortArrayUsingStacks(arr, n):\n",
        "    input_stack = []  # Changed variable name for clarity\n",
        "    i = 0\n",
        "    while i < n:\n",
        "        input_stack.append(arr[i])\n",
        "        i = i + 1\n",
        "\n",
        "    # Sort the temporary stack using the sortStack function\n",
        "    tmpStack = sortStack(input_stack)\n",
        "    i = 0\n",
        "\n",
        "    while i < n:\n",
        "        arr[i] = tmpStack[-1]\n",
        "        tmpStack.pop()\n",
        "        i = i + 1\n",
        "\n",
        "    return arr\n",
        "\n",
        "# Driver code\n",
        "arr = [10, 5, 15, 45]\n",
        "n = len(arr)\n",
        "\n",
        "arr = sortArrayUsingStacks(arr, n)\n",
        "i = 0\n",
        "\n",
        "while i < n:\n",
        "    print(arr[i], end=\" \")\n",
        "    i = i + 1\n"
      ],
      "metadata": {
        "colab": {
          "base_uri": "https://localhost:8080/"
        },
        "id": "2gl7JDvzxW8k",
        "outputId": "145786d6-623d-4ee3-fd2b-2c5283ff413a"
      },
      "execution_count": 22,
      "outputs": [
        {
          "output_type": "stream",
          "name": "stdout",
          "text": [
            "5 10 15 45 "
          ]
        }
      ]
    },
    {
      "cell_type": "markdown",
      "source": [
        "**Algoritma untuk Operasi Deque:**"
      ],
      "metadata": {
        "id": "0v1H6SgK2jFI"
      }
    },
    {
      "cell_type": "code",
      "source": [
        "# Inisialisasi deque dengan nama queue dan nilai awal\n",
        "from collections import deque\n",
        "queue = deque([\"Ram\", \"Tarun\", \"Asif\", \"John\"])"
      ],
      "metadata": {
        "id": "LRi1_d0U2p5C"
      },
      "execution_count": 23,
      "outputs": []
    },
    {
      "cell_type": "code",
      "source": [
        "# Cetak deque, tambahkan elemen, dan cetak lagi\n",
        "print(queue)\n",
        "queue.append(\"Akbar\")\n",
        "print(queue)\n",
        "queue.append(\"Birbal\")\n",
        "print(queue)"
      ],
      "metadata": {
        "colab": {
          "base_uri": "https://localhost:8080/"
        },
        "id": "EWk4o8Fb26XN",
        "outputId": "d085170b-14e8-484d-ac77-e792211f5dc0"
      },
      "execution_count": 24,
      "outputs": [
        {
          "output_type": "stream",
          "name": "stdout",
          "text": [
            "deque(['Ram', 'Tarun', 'Asif', 'John'])\n",
            "deque(['Ram', 'Tarun', 'Asif', 'John', 'Akbar'])\n",
            "deque(['Ram', 'Tarun', 'Asif', 'John', 'Akbar', 'Birbal'])\n"
          ]
        }
      ]
    },
    {
      "cell_type": "code",
      "source": [
        "# Hapus dan cetak elemen paling kiri deque dua kali\n",
        "print(queue.popleft())\n",
        "print(queue.popleft())\n",
        "print(queue)"
      ],
      "metadata": {
        "colab": {
          "base_uri": "https://localhost:8080/"
        },
        "id": "ZR_rv0Wn3A9P",
        "outputId": "8849c3e8-ef5b-4d5a-8b43-f4d5132d045b"
      },
      "execution_count": 25,
      "outputs": [
        {
          "output_type": "stream",
          "name": "stdout",
          "text": [
            "Ram\n",
            "Tarun\n",
            "deque(['Asif', 'John', 'Akbar', 'Birbal'])\n"
          ]
        }
      ]
    },
    {
      "cell_type": "markdown",
      "source": [
        "**Algoritma untuk Pengurutan dengan Stack:**"
      ],
      "metadata": {
        "id": "EoNWUWRF3Mr2"
      }
    },
    {
      "cell_type": "code",
      "source": [
        "# Definisikan fungsi sortStack yang mengambil list input sebagai input dan mengembalikan stack yang diurutkan menggunakan stack sementara (tmpStack)\n",
        "def sortStack(input):\n",
        "    tmpStack = []\n",
        "    while len(input) > 0:\n",
        "        tmp = input[-1]\n",
        "        input.pop()\n",
        "        while len(tmpStack) > 0 and tmpStack[-1] < tmp:\n",
        "            input.append(tmpStack[-1])\n",
        "            tmpStack.pop()\n",
        "        tmpStack.append(tmp)\n",
        "    return tmpStack"
      ],
      "metadata": {
        "id": "ZHFXMY_o3PZy"
      },
      "execution_count": 26,
      "outputs": []
    },
    {
      "cell_type": "code",
      "source": [
        "# Definisikan fungsi sortArrayUsingStacks yang mengambil array (arr) dan panjangnya (n) sebagai input. Ini mengurutkan array menggunakan fungsi sortStack\n",
        "def sortArrayUsingStacks(arr, n):\n",
        "    input_stack = []\n",
        "    i = 0\n",
        "    while i < n:\n",
        "        input_stack.append(arr[i])\n",
        "        i = i + 1\n",
        "\n",
        "    tmpStack = sortStack(input_stack)\n",
        "    i = 0\n",
        "\n",
        "    while i < n:\n",
        "        arr[i] = tmpStack[-1]\n",
        "        tmpStack.pop()\n",
        "        i = i + 1\n",
        "\n",
        "    return arr"
      ],
      "metadata": {
        "id": "gFbs3uDx3XtZ"
      },
      "execution_count": 27,
      "outputs": []
    },
    {
      "cell_type": "code",
      "source": [
        "# Driver code\n",
        "arr = [10, 5, 15, 45]\n",
        "n = len(arr)\n",
        "\n",
        "arr = sortArrayUsingStacks(arr, n)\n",
        "i = 0\n",
        "\n",
        "while i < n:\n",
        "    print(arr[i], end=\" \")\n",
        "    i = i + 1"
      ],
      "metadata": {
        "colab": {
          "base_uri": "https://localhost:8080/"
        },
        "id": "Kgl_LMgV3gfD",
        "outputId": "695f03d5-1312-4691-800c-87ac7cf8122c"
      },
      "execution_count": 28,
      "outputs": [
        {
          "output_type": "stream",
          "name": "stdout",
          "text": [
            "5 10 15 45 "
          ]
        }
      ]
    }
  ]
}