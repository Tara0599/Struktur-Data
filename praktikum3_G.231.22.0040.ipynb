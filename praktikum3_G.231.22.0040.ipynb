{
  "nbformat": 4,
  "nbformat_minor": 0,
  "metadata": {
    "colab": {
      "provenance": [],
      "authorship_tag": "ABX9TyMCHXXZQLtcH02JdRBHQ2C4",
      "include_colab_link": true
    },
    "kernelspec": {
      "name": "python3",
      "display_name": "Python 3"
    },
    "language_info": {
      "name": "python"
    }
  },
  "cells": [
    {
      "cell_type": "markdown",
      "metadata": {
        "id": "view-in-github",
        "colab_type": "text"
      },
      "source": [
        "<a href=\"https://colab.research.google.com/github/Tara0599/Struktur-Data/blob/main/praktikum3_G.231.22.0040.ipynb\" target=\"_parent\"><img src=\"https://colab.research.google.com/assets/colab-badge.svg\" alt=\"Open In Colab\"/></a>"
      ]
    },
    {
      "cell_type": "code",
      "execution_count": 1,
      "metadata": {
        "id": "6gJIVI1tOz2x"
      },
      "outputs": [],
      "source": [
        "def convert (s):\n",
        "\n",
        "  new = \"\"\n",
        "  for x in s:\n",
        "    new += x\n",
        "\n",
        "    return new\n",
        "\n",
        "  #driver code\n",
        "  s = ['g','e','e','k','s','f','o','r','g','e','e','k','s']\n",
        "  print(convert (s))"
      ]
    },
    {
      "cell_type": "code",
      "source": [
        "  def Huruf (s) :\n",
        "    abjad = \"\"\n",
        "    for x in s :\n",
        "      abjad += x\n",
        "\n",
        "    return abjad\n",
        "\n",
        "  # driver code\n",
        "  s = ['p','r','o','g','r','a','m','m','i','n','g']\n",
        "  print(Huruf (s))"
      ],
      "metadata": {
        "colab": {
          "base_uri": "https://localhost:8080/"
        },
        "id": "en8N578mO9mf",
        "outputId": "c1771508-77c8-4fd7-b046-428fb505d91c"
      },
      "execution_count": 4,
      "outputs": [
        {
          "output_type": "stream",
          "name": "stdout",
          "text": [
            "programming\n"
          ]
        }
      ]
    }
  ]
}