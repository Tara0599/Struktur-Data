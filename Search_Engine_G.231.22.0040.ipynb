{
  "nbformat": 4,
  "nbformat_minor": 0,
  "metadata": {
    "colab": {
      "provenance": [],
      "authorship_tag": "ABX9TyPALuaqlNFtecwHPDIN0J4+",
      "include_colab_link": true
    },
    "kernelspec": {
      "name": "python3",
      "display_name": "Python 3"
    },
    "language_info": {
      "name": "python"
    }
  },
  "cells": [
    {
      "cell_type": "markdown",
      "metadata": {
        "id": "view-in-github",
        "colab_type": "text"
      },
      "source": [
        "<a href=\"https://colab.research.google.com/github/Tara0599/Struktur-Data/blob/main/Search_Engine_G.231.22.0040.ipynb\" target=\"_parent\"><img src=\"https://colab.research.google.com/assets/colab-badge.svg\" alt=\"Open In Colab\"/></a>"
      ]
    },
    {
      "cell_type": "code",
      "execution_count": 1,
      "metadata": {
        "colab": {
          "base_uri": "https://localhost:8080/"
        },
        "id": "GnFshA3Ltk1M",
        "outputId": "c7e35d89-e3a1-44ed-8404-285f160f0bbc"
      },
      "outputs": [
        {
          "output_type": "stream",
          "name": "stdout",
          "text": [
            "Hasil pencarian untuk 'python':\n",
            "Document 1: Bagaiman cara membuat codingan di python\n",
            "Document 3: Berkuliah Teknik Informatika di Universitas Semarang dan belajar python\n",
            "Document 4: Mengerjakan tugas struktur data membuat codingan python\n"
          ]
        }
      ],
      "source": [
        "class SimpleSearchEngine:\n",
        "    def __init__(self, documents):\n",
        "        self.documents = documents\n",
        "\n",
        "    def search(self, query):\n",
        "        results = []\n",
        "        for i, doc in enumerate(self.documents, start=1):\n",
        "            if query.lower() in doc.lower():\n",
        "                results.append((i, doc))\n",
        "        return results\n",
        "\n",
        "# Contoh penggunaan\n",
        "documents = [\n",
        "    \"Bagaiman cara membuat codingan di python\",\n",
        "    \"Ada kucing berkelahi\",\n",
        "    \"Berkuliah Teknik Informatika di Universitas Semarang dan belajar python\",\n",
        "    \"Mengerjakan tugas struktur data membuat codingan python\"\n",
        "]\n",
        "\n",
        "search_engine = SimpleSearchEngine(documents)\n",
        "\n",
        "# Cari kata \"python\" dalam dokumen\n",
        "query = \"python\"\n",
        "results = search_engine.search(query)\n",
        "\n",
        "if results:\n",
        "    print(f\"Hasil pencarian untuk '{query}':\")\n",
        "    for result in results:\n",
        "        print(f\"Document {result[0]}: {result[1]}\")\n",
        "else:\n",
        "    print(f\"Tidak ada hasil untuk '{query}'.\")\n"
      ]
    }
  ]
}