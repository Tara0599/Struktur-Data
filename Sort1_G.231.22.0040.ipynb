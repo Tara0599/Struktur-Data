{
  "nbformat": 4,
  "nbformat_minor": 0,
  "metadata": {
    "colab": {
      "provenance": [],
      "authorship_tag": "ABX9TyMX8Px5vzAnjmOjBBLY7Ngp",
      "include_colab_link": true
    },
    "kernelspec": {
      "name": "python3",
      "display_name": "Python 3"
    },
    "language_info": {
      "name": "python"
    }
  },
  "cells": [
    {
      "cell_type": "markdown",
      "metadata": {
        "id": "view-in-github",
        "colab_type": "text"
      },
      "source": [
        "<a href=\"https://colab.research.google.com/github/Tara0599/Struktur-Data/blob/main/Sort1_G.231.22.0040.ipynb\" target=\"_parent\"><img src=\"https://colab.research.google.com/assets/colab-badge.svg\" alt=\"Open In Colab\"/></a>"
      ]
    },
    {
      "cell_type": "code",
      "execution_count": 2,
      "metadata": {
        "colab": {
          "base_uri": "https://localhost:8080/"
        },
        "id": "4l_W8eAGVCE8",
        "outputId": "0111c06b-5afd-46ff-d753-2353faa98013"
      },
      "outputs": [
        {
          "output_type": "stream",
          "name": "stdout",
          "text": [
            "Sorted array: [11, 17, 20, 22, 23, 69, 78]\n"
          ]
        }
      ],
      "source": [
        "def optimized_bubble_sort(arr):\n",
        "    # Mendapatkan panjang array\n",
        "    n = len(arr)\n",
        "\n",
        "    # Iterasi sepanjang array\n",
        "    for i in range(n):\n",
        "        # Inisialisasi variabel untuk melacak apakah ada pertukaran pada iterasi tertentu\n",
        "        swapped = False\n",
        "\n",
        "        # Melakukan iterasi untuk membandingkan dan menukar elemen\n",
        "        for j in range(0, n-i-1):\n",
        "            # Memeriksa apakah elemen saat ini lebih besar dari elemen berikutnya\n",
        "            if arr[j] > arr[j+1]:\n",
        "                # Jika ya, menukar elemen\n",
        "                arr[j], arr[j+1] = arr[j+1], arr[j]\n",
        "                # Setel swapped menjadi True\n",
        "                swapped = True\n",
        "\n",
        "        # Memeriksa apakah ada pertukaran dalam iterasi terakhir\n",
        "        if not swapped:\n",
        "            # Jika tidak ada pertukaran, array sudah terurut, hentikan iterasi\n",
        "            break\n",
        "\n",
        "# Contoh penggunaan:\n",
        "arr = [23, 78, 20, 17, 22, 11, 69]\n",
        "optimized_bubble_sort(arr)\n",
        "print(\"Sorted array:\", arr)"
      ]
    },
    {
      "cell_type": "code",
      "source": [
        "def selection_sort(arr):\n",
        "    # Mendapatkan panjang array\n",
        "    n = len(arr)\n",
        "\n",
        "    # Iterasi sepanjang array\n",
        "    for i in range(n):\n",
        "        # Inisialisasi variabel min_index sebagai indeks elemen terkecil\n",
        "        min_index = i\n",
        "\n",
        "        # Iterasi untuk mencari elemen terkecil di bagian belum terurut dari array\n",
        "        for j in range(i+1, n):\n",
        "            # Memeriksa apakah elemen saat ini lebih kecil dari elemen terkecil yang ditemukan sejauh ini\n",
        "            if arr[j] < arr[min_index]:\n",
        "                # Jika ya, update min_index\n",
        "                min_index = j\n",
        "\n",
        "        # Menukar elemen terkecil dengan elemen pertama di bagian belum terurut\n",
        "        arr[i], arr[min_index] = arr[min_index], arr[i]\n",
        "\n",
        "# Contoh penggunaan:\n",
        "arr = [46, 25, 17, 23, 10]\n",
        "selection_sort(arr)\n",
        "print(\"Sorted array:\", arr)"
      ],
      "metadata": {
        "colab": {
          "base_uri": "https://localhost:8080/"
        },
        "id": "8AKwxGHXXSnG",
        "outputId": "8a585950-6df7-4705-d05a-e5700e999025"
      },
      "execution_count": 4,
      "outputs": [
        {
          "output_type": "stream",
          "name": "stdout",
          "text": [
            "Sorted array: [10, 17, 23, 25, 46]\n"
          ]
        }
      ]
    },
    {
      "cell_type": "code",
      "source": [
        "def insertion_sort(arr):\n",
        "    # Iterasi sepanjang array, dimulai dari indeks kedua\n",
        "    for i in range(1, len(arr)):\n",
        "        # Menyimpan nilai elemen saat ini sebagai kunci\n",
        "        key = arr[i]\n",
        "\n",
        "        # Memulai indeks untuk membandingkan dengan elemen sebelumnya\n",
        "        j = i - 1\n",
        "\n",
        "        # Melakukan iterasi mundur untuk mencari posisi yang tepat untuk elemen saat ini\n",
        "        while j >= 0 and key < arr[j]:\n",
        "            # Geser elemen yang lebih besar ke kanan\n",
        "            arr[j + 1] = arr[j]\n",
        "            j -= 1\n",
        "\n",
        "        # Tempatkan elemen saat ini ke posisi yang tepat dalam bagian terurut dari array\n",
        "        arr[j + 1] = key\n",
        "\n",
        "# Contoh penggunaan:\n",
        "arr = [20, 21, 22, 5, 6]\n",
        "insertion_sort(arr)\n",
        "print(\"Sorted array:\", arr)"
      ],
      "metadata": {
        "colab": {
          "base_uri": "https://localhost:8080/"
        },
        "id": "BlKUKzHWYS0n",
        "outputId": "b5e65d61-2509-465e-e638-bdff710310b5"
      },
      "execution_count": 5,
      "outputs": [
        {
          "output_type": "stream",
          "name": "stdout",
          "text": [
            "Sorted array: [5, 6, 20, 21, 22]\n"
          ]
        }
      ]
    }
  ]
}